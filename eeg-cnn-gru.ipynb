{
 "cells": [
  {
   "cell_type": "markdown",
   "id": "d591eb0e",
   "metadata": {
    "papermill": {
     "duration": 0.014508,
     "end_time": "2024-12-05T03:41:19.991053",
     "exception": false,
     "start_time": "2024-12-05T03:41:19.976545",
     "status": "completed"
    },
    "tags": []
   },
   "source": [
    "# Setup"
   ]
  },
  {
   "cell_type": "code",
   "execution_count": 1,
   "id": "9f483423",
   "metadata": {
    "_cell_guid": "b1076dfc-b9ad-4769-8c92-a6c4dae69d19",
    "_uuid": "8f2839f25d086af736a60e9eeb907d3b93b6e0e5",
    "execution": {
     "iopub.execute_input": "2024-12-05T03:41:20.014677Z",
     "iopub.status.busy": "2024-12-05T03:41:20.014303Z",
     "iopub.status.idle": "2024-12-05T03:41:20.458671Z",
     "shell.execute_reply": "2024-12-05T03:41:20.457711Z"
    },
    "papermill": {
     "duration": 0.456803,
     "end_time": "2024-12-05T03:41:20.460577",
     "exception": false,
     "start_time": "2024-12-05T03:41:20.003774",
     "status": "completed"
    },
    "tags": []
   },
   "outputs": [
    {
     "name": "stdout",
     "output_type": "stream",
     "text": [
      "Path to dataset files: /kaggle/input/seizure-epilepcy-chb-mit-eeg-dataset-pediatric\n"
     ]
    }
   ],
   "source": [
    "import kagglehub\n",
    "\n",
    "# Download latest version\n",
    "path = kagglehub.dataset_download(\"abhishekinnvonix/seizure-epilepcy-chb-mit-eeg-dataset-pediatric\")\n",
    "\n",
    "print(\"Path to dataset files:\", path)"
   ]
  },
  {
   "cell_type": "code",
   "execution_count": 2,
   "id": "161c4942",
   "metadata": {
    "execution": {
     "iopub.execute_input": "2024-12-05T03:41:20.479991Z",
     "iopub.status.busy": "2024-12-05T03:41:20.479721Z",
     "iopub.status.idle": "2024-12-05T03:41:27.135637Z",
     "shell.execute_reply": "2024-12-05T03:41:27.134768Z"
    },
    "papermill": {
     "duration": 6.667657,
     "end_time": "2024-12-05T03:41:27.137639",
     "exception": false,
     "start_time": "2024-12-05T03:41:20.469982",
     "status": "completed"
    },
    "tags": []
   },
   "outputs": [],
   "source": [
    "import re\n",
    "\n",
    "import mne\n",
    "import numpy as np\n",
    "\n",
    "from pathlib import Path\n",
    "from typing import List, Tuple\n",
    "\n",
    "import torch\n",
    "from torch.utils.data import Dataset, DataLoader"
   ]
  },
  {
   "cell_type": "code",
   "execution_count": 3,
   "id": "8ca266fc",
   "metadata": {
    "execution": {
     "iopub.execute_input": "2024-12-05T03:41:27.157256Z",
     "iopub.status.busy": "2024-12-05T03:41:27.156889Z",
     "iopub.status.idle": "2024-12-05T03:41:27.160620Z",
     "shell.execute_reply": "2024-12-05T03:41:27.159868Z"
    },
    "papermill": {
     "duration": 0.015041,
     "end_time": "2024-12-05T03:41:27.162105",
     "exception": false,
     "start_time": "2024-12-05T03:41:27.147064",
     "status": "completed"
    },
    "tags": []
   },
   "outputs": [],
   "source": [
    "ROOT = Path('/kaggle/input/seizure-epilepcy-chb-mit-eeg-dataset-pediatric/chb-mit-scalp-eeg-database-1.0.0')"
   ]
  },
  {
   "cell_type": "markdown",
   "id": "f48e38fe",
   "metadata": {
    "papermill": {
     "duration": 0.008792,
     "end_time": "2024-12-05T03:41:27.179698",
     "exception": false,
     "start_time": "2024-12-05T03:41:27.170906",
     "status": "completed"
    },
    "tags": []
   },
   "source": [
    "# Data Exploration"
   ]
  },
  {
   "cell_type": "code",
   "execution_count": 4,
   "id": "fc6f9886",
   "metadata": {
    "execution": {
     "iopub.execute_input": "2024-12-05T03:41:27.198506Z",
     "iopub.status.busy": "2024-12-05T03:41:27.198248Z",
     "iopub.status.idle": "2024-12-05T03:41:31.283606Z",
     "shell.execute_reply": "2024-12-05T03:41:31.282663Z"
    },
    "papermill": {
     "duration": 4.097077,
     "end_time": "2024-12-05T03:41:31.285687",
     "exception": false,
     "start_time": "2024-12-05T03:41:27.188610",
     "status": "completed"
    },
    "tags": []
   },
   "outputs": [
    {
     "name": "stdout",
     "output_type": "stream",
     "text": [
      "Extracting EDF parameters from /kaggle/input/seizure-epilepcy-chb-mit-eeg-dataset-pediatric/chb-mit-scalp-eeg-database-1.0.0/chb01/chb01_03.edf...\n",
      "EDF file detected\n",
      "Setting channel info structure...\n",
      "Creating raw.info structure...\n"
     ]
    },
    {
     "name": "stderr",
     "output_type": "stream",
     "text": [
      "/tmp/ipykernel_23/209497664.py:2: RuntimeWarning: Channel names are not unique, found duplicates for: {'T8-P8'}. Applying running numbers for duplicates.\n",
      "  raw = mne.io.read_raw_edf(sample_raw_file, preload=True)\n"
     ]
    },
    {
     "name": "stdout",
     "output_type": "stream",
     "text": [
      "Reading 0 ... 921599  =      0.000 ...  3599.996 secs...\n"
     ]
    }
   ],
   "source": [
    "sample_raw_file = '/kaggle/input/seizure-epilepcy-chb-mit-eeg-dataset-pediatric/chb-mit-scalp-eeg-database-1.0.0/chb01/chb01_03.edf'\n",
    "raw = mne.io.read_raw_edf(sample_raw_file, preload=True)"
   ]
  },
  {
   "cell_type": "code",
   "execution_count": 5,
   "id": "bded3613",
   "metadata": {
    "execution": {
     "iopub.execute_input": "2024-12-05T03:41:31.305970Z",
     "iopub.status.busy": "2024-12-05T03:41:31.305581Z",
     "iopub.status.idle": "2024-12-05T03:41:31.311420Z",
     "shell.execute_reply": "2024-12-05T03:41:31.310708Z"
    },
    "papermill": {
     "duration": 0.01762,
     "end_time": "2024-12-05T03:41:31.312977",
     "exception": false,
     "start_time": "2024-12-05T03:41:31.295357",
     "status": "completed"
    },
    "tags": []
   },
   "outputs": [
    {
     "data": {
      "text/plain": [
       "256.0"
      ]
     },
     "execution_count": 5,
     "metadata": {},
     "output_type": "execute_result"
    }
   ],
   "source": [
    "SAMPLING_RATE = raw.info['sfreq']\n",
    "SAMPLING_RATE"
   ]
  },
  {
   "cell_type": "markdown",
   "id": "423c415d",
   "metadata": {
    "papermill": {
     "duration": 0.009369,
     "end_time": "2024-12-05T03:41:31.331784",
     "exception": false,
     "start_time": "2024-12-05T03:41:31.322415",
     "status": "completed"
    },
    "tags": []
   },
   "source": [
    "# Extract every seizure periods"
   ]
  },
  {
   "cell_type": "code",
   "execution_count": 6,
   "id": "8d73fb1e",
   "metadata": {
    "execution": {
     "iopub.execute_input": "2024-12-05T03:41:31.351179Z",
     "iopub.status.busy": "2024-12-05T03:41:31.350931Z",
     "iopub.status.idle": "2024-12-05T03:41:31.357114Z",
     "shell.execute_reply": "2024-12-05T03:41:31.356429Z"
    },
    "papermill": {
     "duration": 0.017729,
     "end_time": "2024-12-05T03:41:31.358686",
     "exception": false,
     "start_time": "2024-12-05T03:41:31.340957",
     "status": "completed"
    },
    "tags": []
   },
   "outputs": [],
   "source": [
    "import re\n",
    "\n",
    "# Function to parse the text file\n",
    "def parse_file(file_path):\n",
    "    with open(file_path, 'r') as file:\n",
    "        content = file.read()\n",
    "    \n",
    "    # Regular expression patterns for extracting information\n",
    "    file_pattern = r\"File Name: (.+)\\nFile Start Time: (.+)\\nFile End Time: (.+)\\nNumber of Seizures in File: (\\d+)\"\n",
    "    seizure_pattern = r\"Seizure \\d+ Start Time: (\\d+) seconds\\nSeizure \\d+ End Time: (\\d+) seconds\"\n",
    "    \n",
    "    # Split content into blocks for each file\n",
    "    file_blocks = content.split(\"\\n\\n\")\n",
    "    data = []\n",
    "    \n",
    "    for block in file_blocks:\n",
    "        file_info_match = re.search(file_pattern, block)\n",
    "        if file_info_match:\n",
    "            file_info = {\n",
    "                \"File Name\": file_info_match.group(1),\n",
    "                \"Start Time\": file_info_match.group(2),\n",
    "                \"End Time\": file_info_match.group(3),\n",
    "                \"Number of Seizures\": int(file_info_match.group(4)),\n",
    "                \"Seizures\": []\n",
    "            }\n",
    "            # If there are seizures, find their start and end times\n",
    "            if file_info[\"Number of Seizures\"] > 0:\n",
    "                seizures = re.findall(seizure_pattern, block)\n",
    "                file_info[\"Seizures\"] = [{\"Start Time\": int(start), \"End Time\": int(end)} for start, end in seizures]\n",
    "            data.append(file_info)\n",
    "    \n",
    "    return data\n"
   ]
  },
  {
   "cell_type": "code",
   "execution_count": 7,
   "id": "60f89061",
   "metadata": {
    "execution": {
     "iopub.execute_input": "2024-12-05T03:41:31.377926Z",
     "iopub.status.busy": "2024-12-05T03:41:31.377696Z",
     "iopub.status.idle": "2024-12-05T03:41:31.381710Z",
     "shell.execute_reply": "2024-12-05T03:41:31.380912Z"
    },
    "papermill": {
     "duration": 0.015277,
     "end_time": "2024-12-05T03:41:31.383163",
     "exception": false,
     "start_time": "2024-12-05T03:41:31.367886",
     "status": "completed"
    },
    "tags": []
   },
   "outputs": [],
   "source": [
    "def get_summary(folder):\n",
    "    folder_name = folder.name\n",
    "    summary_file = f'{folder_name}-summary.txt'\n",
    "    summary_info = parse_file(folder / summary_file)\n",
    "    return summary_info\n",
    "    "
   ]
  },
  {
   "cell_type": "markdown",
   "id": "d4f20717",
   "metadata": {
    "papermill": {
     "duration": 0.009061,
     "end_time": "2024-12-05T03:41:31.401506",
     "exception": false,
     "start_time": "2024-12-05T03:41:31.392445",
     "status": "completed"
    },
    "tags": []
   },
   "source": [
    "# Data preprocessing\n"
   ]
  },
  {
   "cell_type": "code",
   "execution_count": 8,
   "id": "9b04580c",
   "metadata": {
    "execution": {
     "iopub.execute_input": "2024-12-05T03:41:31.420973Z",
     "iopub.status.busy": "2024-12-05T03:41:31.420489Z",
     "iopub.status.idle": "2024-12-05T03:41:31.425120Z",
     "shell.execute_reply": "2024-12-05T03:41:31.424297Z"
    },
    "papermill": {
     "duration": 0.016024,
     "end_time": "2024-12-05T03:41:31.426632",
     "exception": false,
     "start_time": "2024-12-05T03:41:31.410608",
     "status": "completed"
    },
    "tags": []
   },
   "outputs": [],
   "source": [
    "from collections import defaultdict\n",
    "\n",
    "def get_preictal_regions(id, seizures):\n",
    "    preictal_duration = 30 * 60\n",
    "    preictal_regions = defaultdict(list)\n",
    "    for seizure in seizures:\n",
    "        onset = seizure['Start Time']\n",
    "        preictal_regions[id].append((np.max([onset - preictal_duration, 0]), onset))\n",
    "        if onset - preictal_duration < 0:\n",
    "            preictal_regions[id - 1].append((onset - preictal_duration, -1))\n",
    "    return preictal_regions"
   ]
  },
  {
   "cell_type": "code",
   "execution_count": 9,
   "id": "3e0975a3",
   "metadata": {
    "execution": {
     "iopub.execute_input": "2024-12-05T03:41:31.446356Z",
     "iopub.status.busy": "2024-12-05T03:41:31.446092Z",
     "iopub.status.idle": "2024-12-05T03:41:31.451545Z",
     "shell.execute_reply": "2024-12-05T03:41:31.450748Z"
    },
    "papermill": {
     "duration": 0.016793,
     "end_time": "2024-12-05T03:41:31.453025",
     "exception": false,
     "start_time": "2024-12-05T03:41:31.436232",
     "status": "completed"
    },
    "tags": []
   },
   "outputs": [],
   "source": [
    "def process_signal(raw, preictals):\n",
    "    epoch_duration = 5\n",
    "    raw_data = raw.get_data()\n",
    "    n_samples = int(epoch_duration * SAMPLING_RATE)\n",
    "    \n",
    "    epochs = []\n",
    "    labels = []\n",
    "    \n",
    "    for start in range(0, raw_data.shape[1], n_samples):\n",
    "        time_point = start / SAMPLING_RATE\n",
    "            \n",
    "        epoch = raw_data[:, start:start + n_samples]\n",
    "        \n",
    "        if epoch.shape[1] == n_samples:\n",
    "            epochs.append(epoch)\n",
    "            label = 0\n",
    "            for preictal in preictals:\n",
    "                start, end = preictal\n",
    "                if start <= time_point and time_point <= end:\n",
    "                    label = 1\n",
    "            labels.append(label)\n",
    "\n",
    "    epochs = np.array(epochs)\n",
    "    labels = np.array(labels)\n",
    "    return epochs, labels"
   ]
  },
  {
   "cell_type": "code",
   "execution_count": 10,
   "id": "06ff2566",
   "metadata": {
    "execution": {
     "iopub.execute_input": "2024-12-05T03:41:31.472561Z",
     "iopub.status.busy": "2024-12-05T03:41:31.472155Z",
     "iopub.status.idle": "2024-12-05T03:41:31.476460Z",
     "shell.execute_reply": "2024-12-05T03:41:31.475651Z"
    },
    "papermill": {
     "duration": 0.015811,
     "end_time": "2024-12-05T03:41:31.477891",
     "exception": false,
     "start_time": "2024-12-05T03:41:31.462080",
     "status": "completed"
    },
    "tags": []
   },
   "outputs": [],
   "source": [
    "def synthesize(splitted_samples):\n",
    "    random_idx = np.random.choice(len(splitted_samples), 4)\n",
    "    random_samples = [splitted_samples[random_idx[0]], splitted_samples[random_idx[1]],\n",
    "                    splitted_samples[random_idx[2]], splitted_samples[random_idx[3]]]\n",
    "\n",
    "    synthetic = np.concatenate(random_samples, axis=1)\n",
    "    return synthetic"
   ]
  },
  {
   "cell_type": "code",
   "execution_count": 11,
   "id": "7c3d7aee",
   "metadata": {
    "execution": {
     "iopub.execute_input": "2024-12-05T03:41:31.498440Z",
     "iopub.status.busy": "2024-12-05T03:41:31.498159Z",
     "iopub.status.idle": "2024-12-05T03:41:31.503613Z",
     "shell.execute_reply": "2024-12-05T03:41:31.502825Z"
    },
    "papermill": {
     "duration": 0.017652,
     "end_time": "2024-12-05T03:41:31.505269",
     "exception": false,
     "start_time": "2024-12-05T03:41:31.487617",
     "status": "completed"
    },
    "tags": []
   },
   "outputs": [],
   "source": [
    "def subsampling_and_mix(epoch, labels):\n",
    "    sample_true = []\n",
    "    new_epoch = list(epoch)\n",
    "    new_labels = list(labels)\n",
    "    for i, sample in enumerate(epoch):\n",
    "        if labels[i] == 1:\n",
    "            sample_true.append(sample)\n",
    "    splitted_samples = [] \n",
    "    \n",
    "    for sample in sample_true:\n",
    "        sample = np.array(sample)\n",
    "        split_samples = np.split(sample, 4, axis=1)\n",
    "        splitted_samples = splitted_samples + split_samples\n",
    "\n",
    "    if (splitted_samples):\n",
    "        n_times = len(sample_true) * 10\n",
    "        for i in range(n_times):\n",
    "            synthetic_sample = synthesize(splitted_samples)\n",
    "            new_epoch.append(synthetic_sample)\n",
    "            new_labels.append(1)\n",
    "\n",
    "    return np.array(new_epoch), np.array(new_labels)"
   ]
  },
  {
   "cell_type": "code",
   "execution_count": 12,
   "id": "fcaa8c31",
   "metadata": {
    "execution": {
     "iopub.execute_input": "2024-12-05T03:41:31.525467Z",
     "iopub.status.busy": "2024-12-05T03:41:31.525177Z",
     "iopub.status.idle": "2024-12-05T03:41:31.530161Z",
     "shell.execute_reply": "2024-12-05T03:41:31.529437Z"
    },
    "papermill": {
     "duration": 0.017012,
     "end_time": "2024-12-05T03:41:31.531802",
     "exception": false,
     "start_time": "2024-12-05T03:41:31.514790",
     "status": "completed"
    },
    "tags": []
   },
   "outputs": [],
   "source": [
    "def preprocess_data(file, preictal_region):\n",
    "    raw = mne.io.read_raw_edf(file, preload=True)\n",
    "\n",
    "    if len(raw.ch_names) != 23:\n",
    "        return None, None   \n",
    "    \n",
    "    dropped_channels = ['P7-T7', 'T7-FT9','FT9-FT10', 'FT10-T8', 'T8-P8-1']\n",
    "    raw.drop_channels(dropped_channels)\n",
    "    raw.rename_channels({'T8-P8-0': 'T8-P8'})\n",
    "    raw.filter(l_freq=5.0, h_freq=50.0)\n",
    "\n",
    "    if len(raw.ch_names) != 18:\n",
    "        return None, None\n",
    "    \n",
    "    epoch, labels = process_signal(raw, preictal_region)\n",
    "    # epoch, labels = subsampling_and_mix(epoch, labels)\n",
    "    # features, f_labels = split_and_extract_features(epoch, labels)\n",
    "    return epoch, labels"
   ]
  },
  {
   "cell_type": "code",
   "execution_count": 13,
   "id": "da8d313c",
   "metadata": {
    "execution": {
     "iopub.execute_input": "2024-12-05T03:41:31.551455Z",
     "iopub.status.busy": "2024-12-05T03:41:31.551172Z",
     "iopub.status.idle": "2024-12-05T03:41:31.555601Z",
     "shell.execute_reply": "2024-12-05T03:41:31.554817Z"
    },
    "papermill": {
     "duration": 0.015969,
     "end_time": "2024-12-05T03:41:31.557072",
     "exception": false,
     "start_time": "2024-12-05T03:41:31.541103",
     "status": "completed"
    },
    "tags": []
   },
   "outputs": [],
   "source": [
    "def compute_covariance_trial(X):\n",
    "    \"\"\"Compute the covariance matrix for a single trial.\"\"\"\n",
    "    # Assuming X is channels × samples for one trial\n",
    "    return np.dot(X, X.T) / X.shape[1]\n",
    "\n",
    "# def compute_covariance_mean(X):\n",
    "#     \"\"\"Compute the mean covariance matrix over all trials.\"\"\"\n",
    "#     # Assuming X is trials × channels × samples\n",
    "#     covariances = np.array([compute_covariance_trial(X[i]) for i in range(X.shape[0])])\n",
    "#     return np.mean(covariances, axis=0)\n",
    "\n",
    "def compute_covariance_mean(X, n):\n",
    "    \"\"\"Compute the mean covariance matrix over all trials.\"\"\"\n",
    "    # Assuming X is trials × channels × samples\n",
    "    return X / n"
   ]
  },
  {
   "cell_type": "code",
   "execution_count": 14,
   "id": "731e238b",
   "metadata": {
    "execution": {
     "iopub.execute_input": "2024-12-05T03:41:31.576803Z",
     "iopub.status.busy": "2024-12-05T03:41:31.576530Z",
     "iopub.status.idle": "2024-12-05T03:41:31.610407Z",
     "shell.execute_reply": "2024-12-05T03:41:31.609579Z"
    },
    "papermill": {
     "duration": 0.045487,
     "end_time": "2024-12-05T03:41:31.611928",
     "exception": false,
     "start_time": "2024-12-05T03:41:31.566441",
     "status": "completed"
    },
    "tags": []
   },
   "outputs": [],
   "source": [
    "from tqdm import tqdm\n",
    "# data = {\n",
    "#     0: [],\n",
    "#     1: []\n",
    "# }\n",
    "\n",
    "cov_sum = [None, None]\n",
    "sum = [0, 0]\n",
    "\n",
    "mne.set_log_level('CRITICAL')\n",
    "\n",
    "directories = [d for d in ROOT.iterdir() if d.is_dir()]\n",
    "\n",
    "# for directory in tqdm(directories):\n",
    "#     summary = get_summary(directory)\n",
    "#     preictal_regions = defaultdict(list)\n",
    "#     for file_summary in summary:\n",
    "#         file = directory / file_summary['File Name']\n",
    "#         if '+' in file.stem: \n",
    "#             continue\n",
    "#         id = int(file.stem[-2:])\n",
    "#         pr = get_preictal_regions(id, file_summary['Seizures'])\n",
    "#         for key in pr:\n",
    "#             preictal_regions[key] = preictal_regions[key] + pr[key]\n",
    "    \n",
    "#     for file_summary in summary:\n",
    "#         file = directory / file_summary['File Name']\n",
    "#         if '+' in file.stem: \n",
    "#             continue\n",
    "#         id = int(file.stem[-2:])\n",
    "#         epoch, labels = preprocess_data(file, preictal_regions[id])\n",
    "#         if epoch is None:\n",
    "#             break \n",
    "#         # data['features'].append(epoch)\n",
    "#         # data['labels'].append(labels)\n",
    "        \n",
    "#         # torch.save({\n",
    "#         #     'epoch': epoch,\n",
    "#         #     'labels': labels\n",
    "#         # }, f'{file.stem}_data.pth')\n",
    "        \n",
    "#         for i, trial in  enumerate(epoch):\n",
    "#             if labels[i] == 0:\n",
    "#                 # data[0].append(trial)\n",
    "#                 sum[0] += 1\n",
    "#                 if cov_sum[0] is None:\n",
    "#                     cov_sum[0] = compute_covariance_trial(trial) \n",
    "#                 else:\n",
    "#                     # print(np.array(cov_sum[0]).shape, np.array(trial).shape)\n",
    "#                     cov_sum[0] = cov_sum[0] + compute_covariance_trial(trial)\n",
    "#             else:\n",
    "#                 # data[1].append(trial)\n",
    "#                 sum[1] += 1\n",
    "#                 if cov_sum[1] is None:\n",
    "#                     cov_sum[1] = compute_covariance_trial(trial) \n",
    "#                 else:\n",
    "#                     # print(np.array(cov_sum[1]).shape, np.array(trial).shape)\n",
    "#                     cov_sum[1] = cov_sum[1] + compute_covariance_trial(trial)"
   ]
  },
  {
   "cell_type": "code",
   "execution_count": 15,
   "id": "5e9c2584",
   "metadata": {
    "execution": {
     "iopub.execute_input": "2024-12-05T03:41:31.632964Z",
     "iopub.status.busy": "2024-12-05T03:41:31.632699Z",
     "iopub.status.idle": "2024-12-05T03:41:31.640691Z",
     "shell.execute_reply": "2024-12-05T03:41:31.639925Z"
    },
    "papermill": {
     "duration": 0.020949,
     "end_time": "2024-12-05T03:41:31.642502",
     "exception": false,
     "start_time": "2024-12-05T03:41:31.621553",
     "status": "completed"
    },
    "tags": []
   },
   "outputs": [],
   "source": [
    "import numpy as np\n",
    "from scipy.linalg import eigh\n",
    "\n",
    "\n",
    "def csp():\n",
    "    \"\"\"\n",
    "    Common Spatial Pattern implementation for EEG data.\n",
    "    \n",
    "    Parameters:\n",
    "    - trials_class1: EEG data for class 1 (trials × channels × samples)\n",
    "    - trials_class2: EEG data for class 2 (trials × channels × samples)\n",
    "    \n",
    "    Returns:\n",
    "    - W: Spatial filters (channels × channels)\n",
    "    \"\"\"\n",
    "    # Compute mean covariance matrices for each class\n",
    "    # cov1 = compute_covariance_mean(trials_class1)\n",
    "    # cov2 = compute_covariance_mean(trials_class2)\n",
    "\n",
    "    cov1 = compute_covariance_mean(cov_sum[0], sum[0])\n",
    "    cov2 = compute_covariance_mean(cov_sum[1], sum[1])\n",
    "    \n",
    "    # Normalize covariance matrices\n",
    "    cov1 /= np.trace(cov1)\n",
    "    cov2 /= np.trace(cov2)\n",
    "    \n",
    "    # Solve the generalized eigenvalue problem\n",
    "    eigenvalues, eigenvectors = eigh(cov1, cov1 + cov2)\n",
    "    \n",
    "    # Sort eigenvalues and eigenvectors in descending order\n",
    "    sorted_indices = np.argsort(eigenvalues)[::-1]\n",
    "    W = eigenvectors[:, sorted_indices]\n",
    "    \n",
    "    return W\n",
    "\n",
    "def apply_csp_trial(trial, W):\n",
    "    \"\"\"\n",
    "    Apply spatial filters to EEG data.\n",
    "    \n",
    "    Parameters:\n",
    "    - trial: EEG data (channels × samples)\n",
    "    - W: Spatial filters (channels × channels)\n",
    "    \n",
    "    Returns:\n",
    "    - X_csp: Spatially filtered EEG data (trials × channels × samples)\n",
    "    \"\"\"\n",
    "    return np.dot(W.T, trial) \n",
    "\n",
    "def apply_csp(trials, W):\n",
    "    \"\"\"\n",
    "    Apply spatial filters to EEG data.\n",
    "    \n",
    "    Parameters:\n",
    "    - trials: EEG data (trials × channels × samples)\n",
    "    - W: Spatial filters (channels × channels)\n",
    "    \n",
    "    Returns:\n",
    "    - X_csp: Spatially filtered EEG data (trials × channels × samples)\n",
    "    \"\"\"\n",
    "    return np.array([apply_csp_trial(trials[i], W) for i in range(trials.shape[0])])\n",
    "\n",
    "def extract_features_trial(X_csp):\n",
    "    \"\"\"\n",
    "    Extract log-variance features from CSP-transformed data.\n",
    "    \n",
    "    Parameters:\n",
    "    - X_csp: Spatially filtered EEG trial (channels × samples)\n",
    "    \n",
    "    Returns:\n",
    "    - features: Log-variance features (channels)\n",
    "    \"\"\"\n",
    "    variances = np.var(X_csp, axis=1)  # Compute variance along the sample axis\n",
    "    return np.log(variances / np.sum(variances, axis=0, keepdims=True))\n",
    "\n",
    "def extract_features(X_csp):\n",
    "    \"\"\"\n",
    "    Extract log-variance features from CSP-transformed data.\n",
    "    \n",
    "    Parameters:\n",
    "    - X_csp: Spatially filtered EEG data (trials × channels × samples)\n",
    "    \n",
    "    Returns:\n",
    "    - features: Log-variance features (trials × channels)\n",
    "    \"\"\"\n",
    "    variances = np.var(X_csp, axis=2)  # Compute variance along the sample axis\n",
    "    return np.log(variances / np.sum(variances, axis=1, keepdims=True))"
   ]
  },
  {
   "cell_type": "code",
   "execution_count": 16,
   "id": "707daf3a",
   "metadata": {
    "execution": {
     "iopub.execute_input": "2024-12-05T03:41:31.663588Z",
     "iopub.status.busy": "2024-12-05T03:41:31.663311Z",
     "iopub.status.idle": "2024-12-05T03:41:31.666744Z",
     "shell.execute_reply": "2024-12-05T03:41:31.666093Z"
    },
    "papermill": {
     "duration": 0.015587,
     "end_time": "2024-12-05T03:41:31.668243",
     "exception": false,
     "start_time": "2024-12-05T03:41:31.652656",
     "status": "completed"
    },
    "tags": []
   },
   "outputs": [],
   "source": [
    "W = csp()"
   ]
  },
  {
   "cell_type": "code",
   "execution_count": null,
   "id": "ab5d74f7",
   "metadata": {
    "execution": {
     "iopub.execute_input": "2024-12-04T20:14:35.257040Z",
     "iopub.status.busy": "2024-12-04T20:14:35.256819Z",
     "iopub.status.idle": "2024-12-04T20:23:03.734465Z",
     "shell.execute_reply": "2024-12-04T20:23:03.733507Z",
     "shell.execute_reply.started": "2024-12-04T20:14:35.257018Z"
    },
    "papermill": {
     "duration": 0.010527,
     "end_time": "2024-12-05T03:41:47.667116",
     "exception": false,
     "start_time": "2024-12-05T03:41:47.656589",
     "status": "completed"
    },
    "tags": []
   },
   "outputs": [],
   "source": [
    "data = {\n",
    "    'features': [],\n",
    "    'labels': []\n",
    "}\n",
    "for directory in tqdm(directories):\n",
    "    summary = get_summary(directory)\n",
    "    preictal_regions = defaultdict(list)\n",
    "    for file_summary in summary:\n",
    "        file = directory / file_summary['File Name']\n",
    "        if '+' in file.stem: \n",
    "            continue\n",
    "        id = int(file.stem[-2:])\n",
    "        pr = get_preictal_regions(id, file_summary['Seizures'])\n",
    "        for key in pr:\n",
    "            preictal_regions[key] = preictal_regions[key] + pr[key]\n",
    "    \n",
    "    for file_summary in summary:\n",
    "        file = directory / file_summary['File Name']\n",
    "        if '+' in file.stem: \n",
    "            continue\n",
    "        id = int(file.stem[-2:])\n",
    "        epoch, labels = preprocess_data(file, preictal_regions[id])\n",
    "        if epoch is None:\n",
    "            break \n",
    "        epoch, labels = subsampling_and_mix(epoch, labels) \n",
    "        # data['features'].append(epoch)\n",
    "        # data['labels'].append(labels)\n",
    "        temp_epoch = []\n",
    "        for i, trial in enumerate(epoch): \n",
    "            csp_trial = apply_csp_trial(trial, W)\n",
    "            features = extract_features_trial(csp_trial)\n",
    "            temp_epoch.append(features[np.newaxis, :, np.newaxis]) \n",
    "        \n",
    "        data['features'].append(np.concatenate(temp_epoch))\n",
    "        #print(data['features'][0].shape)\n",
    "        data['labels'].append(labels)\n",
    "        #print(data['labels'][0].shape)"
   ]
  },
  {
   "cell_type": "code",
   "execution_count": 20,
   "id": "37c17dba",
   "metadata": {
    "execution": {
     "iopub.execute_input": "2024-12-05T03:41:47.689457Z",
     "iopub.status.busy": "2024-12-05T03:41:47.688862Z",
     "iopub.status.idle": "2024-12-05T03:41:47.693062Z",
     "shell.execute_reply": "2024-12-05T03:41:47.692374Z"
    },
    "papermill": {
     "duration": 0.016737,
     "end_time": "2024-12-05T03:41:47.694570",
     "exception": false,
     "start_time": "2024-12-05T03:41:47.677833",
     "status": "completed"
    },
    "tags": []
   },
   "outputs": [],
   "source": [
    "def self_prod(v):\n",
    "    print(v.shape)\n",
    "    # Transpose into col\n",
    "    #v = v.reshape(-1, 1) \n",
    "\n",
    "    # Compute v * v^T\n",
    "    result = np.matmul(v, np.transpose(v, (0, 2, 1))) \n",
    "    return result"
   ]
  },
  {
   "cell_type": "code",
   "execution_count": null,
   "id": "5e53c301",
   "metadata": {
    "execution": {
     "iopub.execute_input": "2024-12-04T20:23:03.742113Z",
     "iopub.status.busy": "2024-12-04T20:23:03.741862Z",
     "iopub.status.idle": "2024-12-04T20:23:03.759978Z",
     "shell.execute_reply": "2024-12-04T20:23:03.759011Z",
     "shell.execute_reply.started": "2024-12-04T20:23:03.742089Z"
    },
    "papermill": {
     "duration": 0.010151,
     "end_time": "2024-12-05T03:41:47.715078",
     "exception": false,
     "start_time": "2024-12-05T03:41:47.704927",
     "status": "completed"
    },
    "tags": [],
    "vscode": {
     "languageId": "plaintext"
    }
   },
   "outputs": [],
   "source": [
    "print(data['features'][0].shape)"
   ]
  },
  {
   "cell_type": "code",
   "execution_count": null,
   "id": "4e84bc6d",
   "metadata": {
    "execution": {
     "iopub.execute_input": "2024-12-04T20:23:03.761206Z",
     "iopub.status.busy": "2024-12-04T20:23:03.760961Z",
     "iopub.status.idle": "2024-12-04T20:23:04.044596Z",
     "shell.execute_reply": "2024-12-04T20:23:04.043815Z",
     "shell.execute_reply.started": "2024-12-04T20:23:03.761182Z"
    },
    "papermill": {
     "duration": 0.009872,
     "end_time": "2024-12-05T03:41:47.735095",
     "exception": false,
     "start_time": "2024-12-05T03:41:47.725223",
     "status": "completed"
    },
    "tags": [],
    "vscode": {
     "languageId": "plaintext"
    }
   },
   "outputs": [],
   "source": [
    "data['features'] = [self_prod(feature) for feature in data['features']]"
   ]
  },
  {
   "cell_type": "code",
   "execution_count": null,
   "id": "4f37424f",
   "metadata": {
    "execution": {
     "iopub.execute_input": "2024-12-04T20:23:04.045819Z",
     "iopub.status.busy": "2024-12-04T20:23:04.045567Z",
     "iopub.status.idle": "2024-12-04T20:23:17.205944Z",
     "shell.execute_reply": "2024-12-04T20:23:17.204893Z",
     "shell.execute_reply.started": "2024-12-04T20:23:04.045795Z"
    },
    "papermill": {
     "duration": 0.009801,
     "end_time": "2024-12-05T03:41:47.754937",
     "exception": false,
     "start_time": "2024-12-05T03:41:47.745136",
     "status": "completed"
    },
    "tags": [],
    "vscode": {
     "languageId": "plaintext"
    }
   },
   "outputs": [],
   "source": [
    "torch.save(data, 'data.pth')"
   ]
  },
  {
   "cell_type": "code",
   "execution_count": 21,
   "id": "e36408b5",
   "metadata": {
    "execution": {
     "iopub.execute_input": "2024-12-05T03:41:47.776239Z",
     "iopub.status.busy": "2024-12-05T03:41:47.775565Z",
     "iopub.status.idle": "2024-12-05T03:42:06.079700Z",
     "shell.execute_reply": "2024-12-05T03:42:06.078670Z"
    },
    "papermill": {
     "duration": 18.316894,
     "end_time": "2024-12-05T03:42:06.081981",
     "exception": false,
     "start_time": "2024-12-05T03:41:47.765087",
     "status": "completed"
    },
    "tags": []
   },
   "outputs": [
    {
     "name": "stderr",
     "output_type": "stream",
     "text": [
      "/tmp/ipykernel_23/1274284409.py:1: FutureWarning: You are using `torch.load` with `weights_only=False` (the current default value), which uses the default pickle module implicitly. It is possible to construct malicious pickle data which will execute arbitrary code during unpickling (See https://github.com/pytorch/pytorch/blob/main/SECURITY.md#untrusted-models for more details). In a future release, the default value for `weights_only` will be flipped to `True`. This limits the functions that could be executed during unpickling. Arbitrary objects will no longer be allowed to be loaded via this mode unless they are explicitly allowlisted by the user via `torch.serialization.add_safe_globals`. We recommend you start setting `weights_only=True` for any use case where you don't have full control of the loaded file. Please open an issue on GitHub for any issues related to this experimental feature.\n",
      "  data = torch.load(\"/kaggle/input/nh-gi-m-hnh-eeg/data.pth\")\n"
     ]
    }
   ],
   "source": [
    "data = torch.load(\"/kaggle/input/nh-gi-m-hnh-eeg/data.pth\")"
   ]
  },
  {
   "cell_type": "code",
   "execution_count": 22,
   "id": "34207bbc",
   "metadata": {
    "execution": {
     "iopub.execute_input": "2024-12-05T03:42:06.106817Z",
     "iopub.status.busy": "2024-12-05T03:42:06.106549Z",
     "iopub.status.idle": "2024-12-05T03:42:06.110996Z",
     "shell.execute_reply": "2024-12-05T03:42:06.110179Z"
    },
    "papermill": {
     "duration": 0.017563,
     "end_time": "2024-12-05T03:42:06.112537",
     "exception": false,
     "start_time": "2024-12-05T03:42:06.094974",
     "status": "completed"
    },
    "tags": []
   },
   "outputs": [
    {
     "name": "stdout",
     "output_type": "stream",
     "text": [
      "(720, 18, 18)\n"
     ]
    }
   ],
   "source": [
    "print(data['features'][0].shape)"
   ]
  },
  {
   "cell_type": "code",
   "execution_count": 23,
   "id": "92f73290",
   "metadata": {
    "execution": {
     "iopub.execute_input": "2024-12-05T03:42:06.133332Z",
     "iopub.status.busy": "2024-12-05T03:42:06.133082Z",
     "iopub.status.idle": "2024-12-05T03:42:06.136723Z",
     "shell.execute_reply": "2024-12-05T03:42:06.135918Z"
    },
    "papermill": {
     "duration": 0.015896,
     "end_time": "2024-12-05T03:42:06.138190",
     "exception": false,
     "start_time": "2024-12-05T03:42:06.122294",
     "status": "completed"
    },
    "tags": []
   },
   "outputs": [],
   "source": [
    "import copy\n",
    "temp = data.copy()"
   ]
  },
  {
   "cell_type": "code",
   "execution_count": 24,
   "id": "507e1e9f",
   "metadata": {
    "execution": {
     "iopub.execute_input": "2024-12-05T03:42:06.159237Z",
     "iopub.status.busy": "2024-12-05T03:42:06.158980Z",
     "iopub.status.idle": "2024-12-05T03:42:06.163275Z",
     "shell.execute_reply": "2024-12-05T03:42:06.162395Z"
    },
    "papermill": {
     "duration": 0.016792,
     "end_time": "2024-12-05T03:42:06.165041",
     "exception": false,
     "start_time": "2024-12-05T03:42:06.148249",
     "status": "completed"
    },
    "tags": []
   },
   "outputs": [
    {
     "name": "stdout",
     "output_type": "stream",
     "text": [
      "(720,)\n",
      "253\n"
     ]
    }
   ],
   "source": [
    "print(temp['labels'][0].shape)\n",
    "print(len(temp['labels']))"
   ]
  },
  {
   "cell_type": "code",
   "execution_count": 25,
   "id": "d0d19be0",
   "metadata": {
    "execution": {
     "iopub.execute_input": "2024-12-05T03:42:06.186762Z",
     "iopub.status.busy": "2024-12-05T03:42:06.186530Z",
     "iopub.status.idle": "2024-12-05T03:42:06.510594Z",
     "shell.execute_reply": "2024-12-05T03:42:06.509615Z"
    },
    "papermill": {
     "duration": 0.337434,
     "end_time": "2024-12-05T03:42:06.512651",
     "exception": false,
     "start_time": "2024-12-05T03:42:06.175217",
     "status": "completed"
    },
    "tags": []
   },
   "outputs": [],
   "source": [
    "data['features'] = np.concatenate(data['features'])\n",
    "data['labels'] = np.concatenate(data['labels'])"
   ]
  },
  {
   "cell_type": "markdown",
   "id": "55e972f4",
   "metadata": {
    "papermill": {
     "duration": 0.010583,
     "end_time": "2024-12-05T03:42:06.533681",
     "exception": false,
     "start_time": "2024-12-05T03:42:06.523098",
     "status": "completed"
    },
    "tags": []
   },
   "source": [
    "# Model"
   ]
  },
  {
   "cell_type": "code",
   "execution_count": 26,
   "id": "14221376",
   "metadata": {
    "execution": {
     "iopub.execute_input": "2024-12-05T03:42:06.556895Z",
     "iopub.status.busy": "2024-12-05T03:42:06.556602Z",
     "iopub.status.idle": "2024-12-05T03:42:07.006200Z",
     "shell.execute_reply": "2024-12-05T03:42:07.005465Z"
    },
    "papermill": {
     "duration": 0.464205,
     "end_time": "2024-12-05T03:42:07.008150",
     "exception": false,
     "start_time": "2024-12-05T03:42:06.543945",
     "status": "completed"
    },
    "tags": []
   },
   "outputs": [],
   "source": [
    "import torch\n",
    "import torch.nn as nn\n",
    "import torch.optim as optim\n",
    "from torch.utils.data import Dataset, DataLoader\n",
    "from sklearn.model_selection import train_test_split\n",
    "import numpy as np\n",
    "\n",
    "# Custom Dataset class\n",
    "class EEGDataset(Dataset):\n",
    "    def __init__(self, features, labels, type = 'train'):\n",
    "        # Reshape features to match the input shape (1, 18, 18)\n",
    "        self.features = torch.FloatTensor(features.reshape(-1, 1, 18, 18))\n",
    "        self.labels = torch.LongTensor(labels)\n",
    "\n",
    "        if type == 'train':\n",
    "            self.features, _,self.labels, _ = train_test_split(self.features, self.labels, test_size=0.3, random_state=42)\n",
    "        if type == 'test':\n",
    "            _, self.features, _, self.labels = train_test_split(self.features, self.labels, test_size=0.3, random_state=42)\n",
    "            \n",
    "    def __len__(self):\n",
    "        return len(self.labels)\n",
    "    \n",
    "    def __getitem__(self, idx):\n",
    "        return self.features[idx], self.labels[idx]\n",
    "\n",
    "# CNN Model\n",
    "class EEGNet(nn.Module):\n",
    "    def __init__(self):\n",
    "        super(EEGNet, self).__init__()\n",
    "        \n",
    "        # C1: First Convolutional layer\n",
    "        # Input: (1, 18, 18), Output: (6, 18, 18)\n",
    "        self.c1 = nn.Sequential(\n",
    "            nn.Conv2d(1, 6, kernel_size=3, stride=1, padding=1),\n",
    "            nn.ReLU()\n",
    "        )\n",
    "        \n",
    "        # S1: First Subsampling layer\n",
    "        # Input: (6, 18, 18), Output: (6, 9, 9)\n",
    "        self.s1 = nn.Sequential(\n",
    "            nn.Conv2d(6, 6, kernel_size=2, stride=2),\n",
    "            nn.ReLU()\n",
    "        )\n",
    "        \n",
    "        # C2: Second Convolutional layer\n",
    "        # Input: (6, 9, 9), Output: (16, 9, 9)\n",
    "        self.c2 = nn.Sequential(\n",
    "            nn.Conv2d(6, 16, kernel_size=3, stride=1, padding=1),\n",
    "            nn.ReLU()\n",
    "        )\n",
    "        \n",
    "        # S2: Second Subsampling layer\n",
    "        # Input: (16, 9, 9), Output: (16, 5, 5)\n",
    "        self.s2 = nn.Sequential(\n",
    "            nn.Conv2d(16, 16, kernel_size=2, stride=2, padding=1),\n",
    "            nn.ReLU()\n",
    "        )\n",
    "        \n",
    "        # Flatten layer\n",
    "        self.flatten = nn.Flatten()\n",
    "        \n",
    "        # Fully connected layers\n",
    "        self.fc1 = nn.Linear(16 * 5 * 5, 400)\n",
    "        self.fc2 = nn.Linear(400, 84)\n",
    "        self.fc3 = nn.Linear(84, 2)  # 2 classes: interictal and preictal\n",
    "        \n",
    "        self.relu = nn.ReLU()\n",
    "        \n",
    "    def forward(self, x):\n",
    "        # Convolutional layers\n",
    "        x = self.c1(x)\n",
    "        x = self.s1(x)\n",
    "        x = self.c2(x)\n",
    "        x = self.s2(x)\n",
    "        # print(x.shape)\n",
    "        \n",
    "        # Flatten\n",
    "        x = self.flatten(x)\n",
    "        \n",
    "        # Fully connected layers\n",
    "        # print(x.shape)\n",
    "        x = self.relu(self.fc1(x))\n",
    "        x = self.relu(self.fc2(x))\n",
    "        x = self.fc3(x)\n",
    "        \n",
    "        return x"
   ]
  },
  {
   "cell_type": "code",
   "execution_count": 27,
   "id": "0fa616e9",
   "metadata": {
    "execution": {
     "iopub.execute_input": "2024-12-05T03:42:07.030201Z",
     "iopub.status.busy": "2024-12-05T03:42:07.029912Z",
     "iopub.status.idle": "2024-12-05T03:42:07.037734Z",
     "shell.execute_reply": "2024-12-05T03:42:07.036968Z"
    },
    "papermill": {
     "duration": 0.020679,
     "end_time": "2024-12-05T03:42:07.039314",
     "exception": false,
     "start_time": "2024-12-05T03:42:07.018635",
     "status": "completed"
    },
    "tags": []
   },
   "outputs": [],
   "source": [
    "# Training setup\n",
    "def train_model(features, labels, num_epochs=60, batch_size=32):\n",
    "    loss_list = []\n",
    "    accuracy_list = []\n",
    "    # Create dataset and dataloader\n",
    "    dataset = EEGDataset(features, labels)\n",
    "    train_loader = DataLoader(dataset, batch_size=batch_size, shuffle=True)\n",
    "    \n",
    "    # Initialize model, loss function, and optimizer\n",
    "    device = torch.device('cuda' if torch.cuda.is_available() else 'cpu')\n",
    "    model = EEGNet().to(device)\n",
    "    criterion = nn.CrossEntropyLoss()\n",
    "    optimizer = optim.Adam(model.parameters(), lr=4e-4)\n",
    "    \n",
    "    # Training loop\n",
    "    for epoch in range(num_epochs):\n",
    "        model.train()\n",
    "        running_loss = 0.0\n",
    "        correct = 0\n",
    "        total = 0\n",
    "        \n",
    "        for inputs, targets in train_loader:\n",
    "            inputs, targets = inputs.to(device), targets.to(device)\n",
    "            \n",
    "            # Zero the gradients\n",
    "            optimizer.zero_grad()\n",
    "\n",
    "            # Forward pass\n",
    "            outputs = model(inputs)\n",
    "            loss = criterion(outputs, targets)\n",
    "            \n",
    "            # Backward pass and optimize\n",
    "            loss.backward()\n",
    "            optimizer.step()\n",
    "            \n",
    "            # Statistics\n",
    "            running_loss += loss.item()\n",
    "            _, predicted = outputs.max(1)\n",
    "            total += targets.size(0)\n",
    "            correct += predicted.eq(targets).sum().item()\n",
    "        \n",
    "        # Print epoch statistics\n",
    "        epoch_loss = running_loss / len(train_loader)\n",
    "        accuracy = 100. * correct / total\n",
    "        print(f'Epoch [{epoch+1}/{num_epochs}], Loss: {epoch_loss:.4f}, Accuracy: {accuracy:.2f}%')\n",
    "        loss_list.append(epoch_loss)\n",
    "        accuracy_list.append(accuracy)\n",
    "    \n",
    "    return model, loss_list, accuracy_list"
   ]
  },
  {
   "cell_type": "code",
   "execution_count": null,
   "id": "fd1af508",
   "metadata": {
    "execution": {
     "iopub.execute_input": "2024-12-04T20:23:17.621113Z",
     "iopub.status.busy": "2024-12-04T20:23:17.620895Z",
     "iopub.status.idle": "2024-12-04T20:26:31.462307Z",
     "shell.execute_reply": "2024-12-04T20:26:31.461134Z",
     "shell.execute_reply.started": "2024-12-04T20:23:17.621090Z"
    },
    "papermill": {
     "duration": 0.009697,
     "end_time": "2024-12-05T03:42:07.059502",
     "exception": false,
     "start_time": "2024-12-05T03:42:07.049805",
     "status": "completed"
    },
    "tags": [],
    "vscode": {
     "languageId": "plaintext"
    }
   },
   "outputs": [],
   "source": [
    "model, loss_list, accuracy_list = train_model(data['features'], data['labels'])\n",
    "torch.save(model.state_dict(), \"/kaggle/working/model.pth\")"
   ]
  },
  {
   "cell_type": "code",
   "execution_count": null,
   "id": "dc6baafe",
   "metadata": {
    "execution": {
     "iopub.execute_input": "2024-12-04T20:26:34.518791Z",
     "iopub.status.busy": "2024-12-04T20:26:34.518414Z",
     "iopub.status.idle": "2024-12-04T20:26:34.543805Z",
     "shell.execute_reply": "2024-12-04T20:26:34.542692Z",
     "shell.execute_reply.started": "2024-12-04T20:26:34.518757Z"
    },
    "papermill": {
     "duration": 0.009623,
     "end_time": "2024-12-05T03:42:07.079157",
     "exception": false,
     "start_time": "2024-12-05T03:42:07.069534",
     "status": "completed"
    },
    "tags": [],
    "vscode": {
     "languageId": "plaintext"
    }
   },
   "outputs": [],
   "source": [
    "model.eval()\n",
    "with torch.no_grad():\n",
    "    res = model(torch.rand(1, 1, 18, 18).to('cuda'))\n",
    "    sigmoid = nn.Sigmoid()\n",
    "    logits = sigmoid(res)\n",
    "logits"
   ]
  },
  {
   "cell_type": "code",
   "execution_count": null,
   "id": "d531f3f3",
   "metadata": {
    "execution": {
     "iopub.execute_input": "2024-12-04T20:26:36.650897Z",
     "iopub.status.busy": "2024-12-04T20:26:36.650534Z",
     "iopub.status.idle": "2024-12-04T20:26:36.924940Z",
     "shell.execute_reply": "2024-12-04T20:26:36.923872Z",
     "shell.execute_reply.started": "2024-12-04T20:26:36.650865Z"
    },
    "papermill": {
     "duration": 0.011215,
     "end_time": "2024-12-05T03:42:07.100963",
     "exception": false,
     "start_time": "2024-12-05T03:42:07.089748",
     "status": "completed"
    },
    "tags": [],
    "vscode": {
     "languageId": "plaintext"
    }
   },
   "outputs": [],
   "source": [
    "import matplotlib.pyplot as plt\n",
    "\n",
    "plt.title(\"Loss each epoch of CNN model\") \n",
    "plt.xlabel(\"epoches\") \n",
    "plt.ylabel(\"loss\") \n",
    "plt.plot(range(1, len(loss_list) + 1), loss_list)"
   ]
  },
  {
   "cell_type": "code",
   "execution_count": null,
   "id": "146da2ab",
   "metadata": {
    "execution": {
     "iopub.status.busy": "2024-12-04T20:26:31.466563Z",
     "iopub.status.idle": "2024-12-04T20:26:31.466877Z",
     "shell.execute_reply": "2024-12-04T20:26:31.466748Z",
     "shell.execute_reply.started": "2024-12-04T20:26:31.466732Z"
    },
    "papermill": {
     "duration": 0.010125,
     "end_time": "2024-12-05T03:42:07.121655",
     "exception": false,
     "start_time": "2024-12-05T03:42:07.111530",
     "status": "completed"
    },
    "tags": [],
    "vscode": {
     "languageId": "plaintext"
    }
   },
   "outputs": [],
   "source": [
    "plt.title(\"Accuracy each epoch of CNN model\") \n",
    "plt.xlabel(\"epoches\") \n",
    "plt.ylabel(\"accuracy\") \n",
    "plt.plot(range(1, len(accuracy_list) + 1), accuracy_list)"
   ]
  },
  {
   "cell_type": "markdown",
   "id": "28d0bedb",
   "metadata": {
    "papermill": {
     "duration": 0.00971,
     "end_time": "2024-12-05T03:42:07.141488",
     "exception": false,
     "start_time": "2024-12-05T03:42:07.131778",
     "status": "completed"
    },
    "tags": []
   },
   "source": [
    "# GRU Model"
   ]
  },
  {
   "cell_type": "code",
   "execution_count": 28,
   "id": "7d528457",
   "metadata": {
    "execution": {
     "iopub.execute_input": "2024-12-05T03:42:07.162861Z",
     "iopub.status.busy": "2024-12-05T03:42:07.162591Z",
     "iopub.status.idle": "2024-12-05T03:42:07.169061Z",
     "shell.execute_reply": "2024-12-05T03:42:07.168432Z"
    },
    "papermill": {
     "duration": 0.019094,
     "end_time": "2024-12-05T03:42:07.170802",
     "exception": false,
     "start_time": "2024-12-05T03:42:07.151708",
     "status": "completed"
    },
    "tags": []
   },
   "outputs": [],
   "source": [
    "data = temp.copy()"
   ]
  },
  {
   "cell_type": "code",
   "execution_count": 29,
   "id": "ed218a9d",
   "metadata": {
    "execution": {
     "iopub.execute_input": "2024-12-05T03:42:07.193039Z",
     "iopub.status.busy": "2024-12-05T03:42:07.192779Z",
     "iopub.status.idle": "2024-12-05T03:42:07.206179Z",
     "shell.execute_reply": "2024-12-05T03:42:07.205448Z"
    },
    "papermill": {
     "duration": 0.02668,
     "end_time": "2024-12-05T03:42:07.207814",
     "exception": false,
     "start_time": "2024-12-05T03:42:07.181134",
     "status": "completed"
    },
    "tags": []
   },
   "outputs": [],
   "source": [
    "import torch\n",
    "import torch.nn as nn\n",
    "import torch.optim as optim\n",
    "from torch.utils.data import Dataset, DataLoader\n",
    "import numpy as np\n",
    "\n",
    "# Custom Dataset class\n",
    "class EEG_GRUDataset(Dataset):\n",
    "    def __init__(self, data, seq_size = 20, type = 'train'):\n",
    "        # Reshape features to match the input shape (1, 18, 18)\n",
    "        \n",
    "        self.features = []\n",
    "        self.labels = []\n",
    "        features = data['features']\n",
    "        # print(len(features))\n",
    "        # print(features[0].shape)\n",
    "        for feature in features:\n",
    "            for i in range(0, feature.shape[0] - seq_size, seq_size):\n",
    "                self.features.append(feature[i: i + seq_size, :, :])\n",
    "        labels = data['labels']\n",
    "        for label in labels:\n",
    "            for i in range(0, label.shape[0] - seq_size, seq_size):\n",
    "                self.labels.append(label[i + seq_size - 1])\n",
    "                \n",
    "        self.features = np.stack(self.features)\n",
    "        self.labels = np.stack(self.labels)\n",
    "        self.features = torch.FloatTensor(self.features)\n",
    "        self.labels = torch.LongTensor(self.labels)\n",
    "        if type == 'train':\n",
    "            self.features, _,self.labels, _ = train_test_split(self.features, self.labels, test_size=0.3, random_state=42)\n",
    "        if type == 'test':\n",
    "            _, self.features, _, self.labels = train_test_split(self.features, self.labels, test_size=0.3, random_state=42)\n",
    "            \n",
    "    def __len__(self):\n",
    "        return len(self.labels)\n",
    "    \n",
    "    def __getitem__(self, idx):\n",
    "        return self.features[idx], self.labels[idx]\n",
    "\n",
    "class EEG_GRUNet(nn.Module):\n",
    "    def __init__(self):\n",
    "        super(EEG_GRUNet, self).__init__()\n",
    "        \n",
    "        # C1: First Convolutional layer\n",
    "        # Input: (1, 18, 18), Output: (6, 18, 18)\n",
    "        self.c1 = nn.Sequential(\n",
    "            nn.Conv2d(1, 6, kernel_size=3, stride=1, padding=1),\n",
    "            nn.ReLU()\n",
    "        )\n",
    "        \n",
    "        # S1: First Subsampling layer\n",
    "        # Input: (6, 18, 18), Output: (6, 9, 9)\n",
    "        self.s1 = nn.Sequential(\n",
    "            nn.Conv2d(6, 6, kernel_size=2, stride=2),\n",
    "            nn.ReLU()\n",
    "        )\n",
    "        \n",
    "        # C2: Second Convolutional layer\n",
    "        # Input: (6, 9, 9), Output: (16, 9, 9)\n",
    "        self.c2 = nn.Sequential(\n",
    "            nn.Conv2d(6, 16, kernel_size=3, stride=1, padding=1),\n",
    "            nn.ReLU()\n",
    "        )\n",
    "        \n",
    "        # S2: Second Subsampling layer\n",
    "        # Input: (16, 9, 9), Output: (16, 5, 5)\n",
    "        self.s2 = nn.Sequential(\n",
    "            nn.Conv2d(16, 16, kernel_size=2, stride=2, padding=1),\n",
    "            nn.ReLU()\n",
    "        )\n",
    "        \n",
    "        # Flatten layer\n",
    "        self.flatten = nn.Flatten()\n",
    "        \n",
    "        # Fully connected layers\n",
    "        self.fc1 = nn.Linear(16 * 5 * 5, 400)\n",
    "        self.fc2 = nn.Linear(400, 84)\n",
    "        self.fc3 = nn.Linear(84, 2)  # 2 classes: interictal and preictal\n",
    "        \n",
    "        self.relu = nn.ReLU()\n",
    "\n",
    "        # GRU layers\n",
    "        self.GRU = nn.GRU(input_size = 400, hidden_size = 16 * 5 * 5, num_layers = 2, batch_first=True)\n",
    "        \n",
    "    def forward(self, x):\n",
    "        input = []\n",
    "        cur = None;\n",
    "        for index in range(x.shape[1]):\n",
    "            cur = self.c1(x[:, index: index + 1, :, :])\n",
    "            cur = self.s1(cur)\n",
    "            cur = self.c2(cur)\n",
    "            cur = self.s2(cur)\n",
    "            \n",
    "            # Flatten\n",
    "            cur = self.flatten(cur)\n",
    "            cur = cur.unsqueeze(1)\n",
    "            input.append(cur)\n",
    "            \n",
    "        input = torch.cat(input, dim = 1)\n",
    "        x, _ = self.GRU(input, None)\n",
    "        x = x[:, -1, :]\n",
    "        \n",
    "        # Fully connected layers\n",
    "        x = self.relu(self.fc1(x))\n",
    "        x = self.relu(self.fc2(x))\n",
    "        x = self.fc3(x)\n",
    "        \n",
    "        return x"
   ]
  },
  {
   "cell_type": "code",
   "execution_count": 30,
   "id": "0581d1d6",
   "metadata": {
    "execution": {
     "iopub.execute_input": "2024-12-05T03:42:07.229050Z",
     "iopub.status.busy": "2024-12-05T03:42:07.228798Z",
     "iopub.status.idle": "2024-12-05T03:42:07.235610Z",
     "shell.execute_reply": "2024-12-05T03:42:07.234862Z"
    },
    "papermill": {
     "duration": 0.019376,
     "end_time": "2024-12-05T03:42:07.237127",
     "exception": false,
     "start_time": "2024-12-05T03:42:07.217751",
     "status": "completed"
    },
    "tags": []
   },
   "outputs": [],
   "source": [
    "def train_model(data, num_epochs=60, batch_size=32):\n",
    "    loss_list = []\n",
    "    accuracy_list = []\n",
    "    # Create dataset and dataloader\n",
    "    dataset = EEG_GRUDataset(data)\n",
    "    train_loader = DataLoader(dataset, batch_size=batch_size, shuffle=True)\n",
    "    \n",
    "    # Initialize model, loss function, and optimizer\n",
    "    device = torch.device('cuda' if torch.cuda.is_available() else 'cpu')\n",
    "    model = EEG_GRUNet().to(device)\n",
    "    criterion = nn.CrossEntropyLoss()\n",
    "    optimizer = optim.Adam(model.parameters(), lr=4e-4)\n",
    "    \n",
    "    # Training loop\n",
    "    for epoch in range(num_epochs):\n",
    "        model.train()\n",
    "        running_loss = 0.0\n",
    "        correct = 0\n",
    "        total = 0\n",
    "        \n",
    "        for inputs, targets in train_loader:\n",
    "            inputs, targets = inputs.to(device), targets.to(device)\n",
    "            \n",
    "            # Zero the gradients\n",
    "            optimizer.zero_grad()\n",
    "            \n",
    "            # Forward pass\n",
    "            outputs = model(inputs)\n",
    "            loss = criterion(outputs, targets)\n",
    "            \n",
    "            # Backward pass and optimize\n",
    "            loss.backward()\n",
    "            optimizer.step()\n",
    "            \n",
    "            # Statistics\n",
    "            running_loss += loss.item()\n",
    "            _, predicted = outputs.max(1)\n",
    "            total += targets.size(0)\n",
    "            correct += predicted.eq(targets).sum().item()\n",
    "        \n",
    "        # Print epoch statistics\n",
    "        epoch_loss = running_loss / len(train_loader)\n",
    "        accuracy = 100. * correct / total\n",
    "        #if (epoch + 1) % 5 == 0:\n",
    "        print(f'Epoch [{epoch+1}/{num_epochs}], Loss: {epoch_loss:.4f}, Accuracy: {accuracy:.2f}%')\n",
    "        loss_list.append(epoch_loss)\n",
    "        accuracy_list.append(accuracy)\n",
    "        \n",
    "    return model, loss_list, accuracy_list"
   ]
  },
  {
   "cell_type": "code",
   "execution_count": 31,
   "id": "75ff06fa",
   "metadata": {
    "execution": {
     "iopub.execute_input": "2024-12-05T03:42:07.258241Z",
     "iopub.status.busy": "2024-12-05T03:42:07.257978Z",
     "iopub.status.idle": "2024-12-05T03:51:22.388442Z",
     "shell.execute_reply": "2024-12-05T03:51:22.387409Z"
    },
    "papermill": {
     "duration": 555.14271,
     "end_time": "2024-12-05T03:51:22.390201",
     "exception": false,
     "start_time": "2024-12-05T03:42:07.247491",
     "status": "completed"
    },
    "tags": []
   },
   "outputs": [
    {
     "name": "stdout",
     "output_type": "stream",
     "text": [
      "Epoch [1/60], Loss: 0.3785, Accuracy: 80.67%\n",
      "Epoch [2/60], Loss: 0.2660, Accuracy: 88.35%\n",
      "Epoch [3/60], Loss: 0.2297, Accuracy: 89.82%\n",
      "Epoch [4/60], Loss: 0.1950, Accuracy: 91.90%\n",
      "Epoch [5/60], Loss: 0.1660, Accuracy: 93.43%\n",
      "Epoch [6/60], Loss: 0.1583, Accuracy: 93.83%\n",
      "Epoch [7/60], Loss: 0.1491, Accuracy: 94.15%\n",
      "Epoch [8/60], Loss: 0.1395, Accuracy: 94.75%\n",
      "Epoch [9/60], Loss: 0.1301, Accuracy: 95.23%\n",
      "Epoch [10/60], Loss: 0.1236, Accuracy: 95.45%\n",
      "Epoch [11/60], Loss: 0.1116, Accuracy: 95.84%\n",
      "Epoch [12/60], Loss: 0.1099, Accuracy: 96.04%\n",
      "Epoch [13/60], Loss: 0.1065, Accuracy: 96.05%\n",
      "Epoch [14/60], Loss: 0.0960, Accuracy: 96.42%\n",
      "Epoch [15/60], Loss: 0.0912, Accuracy: 96.61%\n",
      "Epoch [16/60], Loss: 0.0831, Accuracy: 96.85%\n",
      "Epoch [17/60], Loss: 0.0779, Accuracy: 97.04%\n",
      "Epoch [18/60], Loss: 0.0732, Accuracy: 97.17%\n",
      "Epoch [19/60], Loss: 0.0712, Accuracy: 97.35%\n",
      "Epoch [20/60], Loss: 0.0619, Accuracy: 97.62%\n",
      "Epoch [21/60], Loss: 0.0611, Accuracy: 97.85%\n",
      "Epoch [22/60], Loss: 0.0555, Accuracy: 98.01%\n",
      "Epoch [23/60], Loss: 0.0490, Accuracy: 98.18%\n",
      "Epoch [24/60], Loss: 0.0448, Accuracy: 98.34%\n",
      "Epoch [25/60], Loss: 0.0401, Accuracy: 98.44%\n",
      "Epoch [26/60], Loss: 0.0377, Accuracy: 98.63%\n",
      "Epoch [27/60], Loss: 0.0342, Accuracy: 98.82%\n",
      "Epoch [28/60], Loss: 0.0408, Accuracy: 98.52%\n",
      "Epoch [29/60], Loss: 0.0254, Accuracy: 99.12%\n",
      "Epoch [30/60], Loss: 0.0275, Accuracy: 99.00%\n",
      "Epoch [31/60], Loss: 0.0209, Accuracy: 99.30%\n",
      "Epoch [32/60], Loss: 0.0192, Accuracy: 99.24%\n",
      "Epoch [33/60], Loss: 0.0209, Accuracy: 99.25%\n",
      "Epoch [34/60], Loss: 0.0197, Accuracy: 99.30%\n",
      "Epoch [35/60], Loss: 0.0124, Accuracy: 99.69%\n",
      "Epoch [36/60], Loss: 0.0158, Accuracy: 99.45%\n",
      "Epoch [37/60], Loss: 0.0184, Accuracy: 99.39%\n",
      "Epoch [38/60], Loss: 0.0167, Accuracy: 99.40%\n",
      "Epoch [39/60], Loss: 0.0132, Accuracy: 99.56%\n",
      "Epoch [40/60], Loss: 0.0089, Accuracy: 99.68%\n",
      "Epoch [41/60], Loss: 0.0147, Accuracy: 99.57%\n",
      "Epoch [42/60], Loss: 0.0148, Accuracy: 99.52%\n",
      "Epoch [43/60], Loss: 0.0134, Accuracy: 99.54%\n",
      "Epoch [44/60], Loss: 0.0087, Accuracy: 99.69%\n",
      "Epoch [45/60], Loss: 0.0079, Accuracy: 99.78%\n",
      "Epoch [46/60], Loss: 0.0098, Accuracy: 99.66%\n",
      "Epoch [47/60], Loss: 0.0151, Accuracy: 99.48%\n",
      "Epoch [48/60], Loss: 0.0085, Accuracy: 99.72%\n",
      "Epoch [49/60], Loss: 0.0097, Accuracy: 99.69%\n",
      "Epoch [50/60], Loss: 0.0062, Accuracy: 99.83%\n",
      "Epoch [51/60], Loss: 0.0100, Accuracy: 99.69%\n",
      "Epoch [52/60], Loss: 0.0062, Accuracy: 99.80%\n",
      "Epoch [53/60], Loss: 0.0328, Accuracy: 99.19%\n",
      "Epoch [54/60], Loss: 0.0080, Accuracy: 99.73%\n",
      "Epoch [55/60], Loss: 0.0075, Accuracy: 99.76%\n",
      "Epoch [56/60], Loss: 0.0011, Accuracy: 99.96%\n",
      "Epoch [57/60], Loss: 0.0000, Accuracy: 100.00%\n",
      "Epoch [58/60], Loss: 0.0000, Accuracy: 100.00%\n",
      "Epoch [59/60], Loss: 0.0000, Accuracy: 100.00%\n",
      "Epoch [60/60], Loss: 0.0000, Accuracy: 100.00%\n"
     ]
    }
   ],
   "source": [
    "model_GRU, loss_list, accuracy_list = train_model(data)\n",
    "torch.save(model_GRU.state_dict(), \"/kaggle/working/model_GRU.pth\")"
   ]
  },
  {
   "cell_type": "code",
   "execution_count": 32,
   "id": "a95ce834",
   "metadata": {
    "execution": {
     "iopub.execute_input": "2024-12-05T03:51:22.416898Z",
     "iopub.status.busy": "2024-12-05T03:51:22.415908Z",
     "iopub.status.idle": "2024-12-05T03:51:22.784216Z",
     "shell.execute_reply": "2024-12-05T03:51:22.783362Z"
    },
    "papermill": {
     "duration": 0.383203,
     "end_time": "2024-12-05T03:51:22.785899",
     "exception": false,
     "start_time": "2024-12-05T03:51:22.402696",
     "status": "completed"
    },
    "tags": []
   },
   "outputs": [
    {
     "data": {
      "text/plain": [
       "[<matplotlib.lines.Line2D at 0x7f66b0e61f90>]"
      ]
     },
     "execution_count": 32,
     "metadata": {},
     "output_type": "execute_result"
    },
    {
     "data": {
      "image/png": "[encoded data removed]",
      "text/plain": [
       "<Figure size 640x480 with 1 Axes>"
      ]
     },
     "metadata": {},
     "output_type": "display_data"
    }
   ],
   "source": [
    "import matplotlib.pyplot as plt\n",
    "\n",
    "plt.title(\"Loss each epoch of GRU model\") \n",
    "plt.xlabel(\"epoches\") \n",
    "plt.ylabel(\"loss\") \n",
    "plt.plot(range(1, len(loss_list) + 1), loss_list)"
   ]
  },
  {
   "cell_type": "code",
   "execution_count": 33,
   "id": "a2ffdb5d",
   "metadata": {
    "execution": {
     "iopub.execute_input": "2024-12-05T03:51:22.812961Z",
     "iopub.status.busy": "2024-12-05T03:51:22.812688Z",
     "iopub.status.idle": "2024-12-05T03:51:23.089985Z",
     "shell.execute_reply": "2024-12-05T03:51:23.089142Z"
    },
    "papermill": {
     "duration": 0.2926,
     "end_time": "2024-12-05T03:51:23.091608",
     "exception": false,
     "start_time": "2024-12-05T03:51:22.799008",
     "status": "completed"
    },
    "tags": []
   },
   "outputs": [
    {
     "data": {
      "text/plain": [
       "[<matplotlib.lines.Line2D at 0x7f66b0f3f3d0>]"
      ]
     },
     "execution_count": 33,
     "metadata": {},
     "output_type": "execute_result"
    },
    {
     "data": {
      "image/png": "[encoded data removed]",
      "text/plain": [
       "<Figure size 640x480 with 1 Axes>"
      ]
     },
     "metadata": {},
     "output_type": "display_data"
    }
   ],
   "source": [
    "plt.title(\"Accuracy each epoch of GRU model\") \n",
    "plt.xlabel(\"epoches\") \n",
    "plt.ylabel(\"accuracy\") \n",
    "plt.plot(range(1, len(accuracy_list) + 1), accuracy_list)"
   ]
  },
  {
   "cell_type": "markdown",
   "id": "faabcd4a",
   "metadata": {
    "papermill": {
     "duration": 0.013514,
     "end_time": "2024-12-05T03:51:23.118824",
     "exception": false,
     "start_time": "2024-12-05T03:51:23.105310",
     "status": "completed"
    },
    "tags": []
   },
   "source": [
    "# MLP Model"
   ]
  },
  {
   "cell_type": "code",
   "execution_count": 34,
   "id": "3f981033",
   "metadata": {
    "execution": {
     "iopub.execute_input": "2024-12-05T03:51:23.147064Z",
     "iopub.status.busy": "2024-12-05T03:51:23.146738Z",
     "iopub.status.idle": "2024-12-05T03:51:23.150677Z",
     "shell.execute_reply": "2024-12-05T03:51:23.149858Z"
    },
    "papermill": {
     "duration": 0.019742,
     "end_time": "2024-12-05T03:51:23.152198",
     "exception": false,
     "start_time": "2024-12-05T03:51:23.132456",
     "status": "completed"
    },
    "tags": []
   },
   "outputs": [],
   "source": [
    "data = temp.copy()"
   ]
  },
  {
   "cell_type": "code",
   "execution_count": 35,
   "id": "d26c44f5",
   "metadata": {
    "execution": {
     "iopub.execute_input": "2024-12-05T03:51:23.179842Z",
     "iopub.status.busy": "2024-12-05T03:51:23.179596Z",
     "iopub.status.idle": "2024-12-05T03:51:23.508904Z",
     "shell.execute_reply": "2024-12-05T03:51:23.507929Z"
    },
    "papermill": {
     "duration": 0.345292,
     "end_time": "2024-12-05T03:51:23.511042",
     "exception": false,
     "start_time": "2024-12-05T03:51:23.165750",
     "status": "completed"
    },
    "tags": []
   },
   "outputs": [],
   "source": [
    "data['features'] = np.concatenate(data['features'])\n",
    "data['labels'] = np.concatenate(data['labels'])"
   ]
  },
  {
   "cell_type": "code",
   "execution_count": 36,
   "id": "4fe19206",
   "metadata": {
    "execution": {
     "iopub.execute_input": "2024-12-05T03:51:23.540925Z",
     "iopub.status.busy": "2024-12-05T03:51:23.540630Z",
     "iopub.status.idle": "2024-12-05T03:51:23.547559Z",
     "shell.execute_reply": "2024-12-05T03:51:23.546686Z"
    },
    "papermill": {
     "duration": 0.023377,
     "end_time": "2024-12-05T03:51:23.549244",
     "exception": false,
     "start_time": "2024-12-05T03:51:23.525867",
     "status": "completed"
    },
    "tags": []
   },
   "outputs": [],
   "source": [
    "class EEG_MLPNet(nn.Module):\n",
    "    def __init__(self):\n",
    "        super(EEG_MLPNet, self).__init__()\n",
    "        # Fully connected layers\n",
    "        self.flatten = nn.Flatten()\n",
    "        self.fc0 = nn.Linear(1 * 18 * 18, 6 * 18 * 18)\n",
    "        self.fc1 = nn.Linear(6 * 18 * 18, 6 * 9 * 9)\n",
    "        self.fc2 = nn.Linear(6 * 9 * 9, 16 * 9 * 9)\n",
    "        self.fc3 = nn.Linear(16 * 9 * 9, 16 * 5 * 5)\n",
    "        self.fc4 = nn.Linear(16 * 5 * 5, 400)\n",
    "        self.fc5 = nn.Linear(400, 84)\n",
    "        self.fc6 = nn.Linear(84, 2)  # 2 classes: interictal and preictal\n",
    "        \n",
    "        self.relu = nn.ReLU()\n",
    "        \n",
    "    def forward(self, x):\n",
    "        x = self.relu(self.fc0(self.flatten(x)))\n",
    "        x = self.relu(self.fc1(x))\n",
    "        x = self.relu(self.fc2(x))\n",
    "        x = self.relu(self.fc3(x))\n",
    "        x = self.relu(self.fc4(x))\n",
    "        x = self.relu(self.fc5(x))\n",
    "        x = self.fc6(x)\n",
    "        \n",
    "        return x"
   ]
  },
  {
   "cell_type": "code",
   "execution_count": 37,
   "id": "7afbb0c6",
   "metadata": {
    "execution": {
     "iopub.execute_input": "2024-12-05T03:51:23.576881Z",
     "iopub.status.busy": "2024-12-05T03:51:23.576628Z",
     "iopub.status.idle": "2024-12-05T03:51:23.583948Z",
     "shell.execute_reply": "2024-12-05T03:51:23.583126Z"
    },
    "papermill": {
     "duration": 0.023072,
     "end_time": "2024-12-05T03:51:23.585600",
     "exception": false,
     "start_time": "2024-12-05T03:51:23.562528",
     "status": "completed"
    },
    "tags": []
   },
   "outputs": [],
   "source": [
    "# Training setup\n",
    "def train_model(features, labels, num_epochs=60, batch_size=32):\n",
    "    loss_list = []\n",
    "    accuracy_list = []\n",
    "    # Create dataset and dataloader\n",
    "    dataset = EEGDataset(features, labels)\n",
    "    train_loader = DataLoader(dataset, batch_size=batch_size, shuffle=True)\n",
    "    \n",
    "    # Initialize model, loss function, and optimizer\n",
    "    device = torch.device('cuda' if torch.cuda.is_available() else 'cpu')\n",
    "    model = EEG_MLPNet().to(device)\n",
    "    criterion = nn.CrossEntropyLoss()\n",
    "    optimizer = optim.Adam(model.parameters(), lr=4e-4)\n",
    "    \n",
    "    # Training loop\n",
    "    for epoch in range(num_epochs):\n",
    "        model.train()\n",
    "        running_loss = 0.0\n",
    "        correct = 0\n",
    "        total = 0\n",
    "        \n",
    "        for inputs, targets in train_loader:\n",
    "            inputs, targets = inputs.to(device), targets.to(device)\n",
    "            \n",
    "            # Zero the gradients\n",
    "            optimizer.zero_grad()\n",
    "\n",
    "            # Forward pass\n",
    "            outputs = model(inputs)\n",
    "            loss = criterion(outputs, targets)\n",
    "            \n",
    "            # Backward pass and optimize\n",
    "            loss.backward()\n",
    "            optimizer.step()\n",
    "            \n",
    "            # Statistics\n",
    "            running_loss += loss.item()\n",
    "            _, predicted = outputs.max(1)\n",
    "            total += targets.size(0)\n",
    "            correct += predicted.eq(targets).sum().item()\n",
    "        \n",
    "        # Print epoch statistics\n",
    "        epoch_loss = running_loss / len(train_loader)\n",
    "        accuracy = 100. * correct / total\n",
    "        print(f'Epoch [{epoch+1}/{num_epochs}], Loss: {epoch_loss:.4f}, Accuracy: {accuracy:.2f}%')\n",
    "        loss_list.append(epoch_loss)\n",
    "        accuracy_list.append(accuracy)\n",
    "    \n",
    "    return model, loss_list, accuracy_list"
   ]
  },
  {
   "cell_type": "code",
   "execution_count": null,
   "id": "9172fe9b",
   "metadata": {
    "execution": {
     "iopub.execute_input": "2024-12-04T20:29:38.014130Z",
     "iopub.status.busy": "2024-12-04T20:29:38.013801Z",
     "iopub.status.idle": "2024-12-04T20:30:43.620451Z",
     "shell.execute_reply": "2024-12-04T20:30:43.619245Z",
     "shell.execute_reply.started": "2024-12-04T20:29:38.014099Z"
    },
    "papermill": {
     "duration": 0.013644,
     "end_time": "2024-12-05T03:51:23.612515",
     "exception": false,
     "start_time": "2024-12-05T03:51:23.598871",
     "status": "completed"
    },
    "tags": [],
    "vscode": {
     "languageId": "plaintext"
    }
   },
   "outputs": [],
   "source": [
    "model_MLP, loss_list, accuracy_list = train_model(data['features'], data['labels'])\n",
    "torch.save(model_MLP.state_dict(), \"/kaggle/working/model_MLP.pth\")"
   ]
  },
  {
   "cell_type": "markdown",
   "id": "611346bf",
   "metadata": {
    "papermill": {
     "duration": 0.049174,
     "end_time": "2024-12-05T03:51:23.675033",
     "exception": false,
     "start_time": "2024-12-05T03:51:23.625859",
     "status": "completed"
    },
    "tags": []
   },
   "source": [
    "# Evaluate"
   ]
  },
  {
   "cell_type": "code",
   "execution_count": 38,
   "id": "198bcaac",
   "metadata": {
    "execution": {
     "iopub.execute_input": "2024-12-05T03:51:23.704518Z",
     "iopub.status.busy": "2024-12-05T03:51:23.704162Z",
     "iopub.status.idle": "2024-12-05T03:51:23.710999Z",
     "shell.execute_reply": "2024-12-05T03:51:23.710322Z"
    },
    "papermill": {
     "duration": 0.023285,
     "end_time": "2024-12-05T03:51:23.712606",
     "exception": false,
     "start_time": "2024-12-05T03:51:23.689321",
     "status": "completed"
    },
    "tags": []
   },
   "outputs": [],
   "source": [
    "data = temp.copy()"
   ]
  },
  {
   "cell_type": "code",
   "execution_count": 39,
   "id": "bbb2efd8",
   "metadata": {
    "execution": {
     "iopub.execute_input": "2024-12-05T03:51:23.742239Z",
     "iopub.status.busy": "2024-12-05T03:51:23.741953Z",
     "iopub.status.idle": "2024-12-05T03:51:27.279423Z",
     "shell.execute_reply": "2024-12-05T03:51:27.278335Z"
    },
    "papermill": {
     "duration": 3.554486,
     "end_time": "2024-12-05T03:51:27.281202",
     "exception": false,
     "start_time": "2024-12-05T03:51:23.726716",
     "status": "completed"
    },
    "tags": []
   },
   "outputs": [
    {
     "name": "stdout",
     "output_type": "stream",
     "text": [
      "Number of Sample: 5898\n",
      "Accuracy of GRU-CNN: 96.39%, Accuracy of CNN: 92.40%, Accuracy of MLP: 89.93%\n"
     ]
    }
   ],
   "source": [
    "# Create dataset and dataloader\n",
    "dataset = EEG_GRUDataset(data, 20, 'test')\n",
    "test_loader = DataLoader(dataset, batch_size=32, shuffle=False)\n",
    "\n",
    "# Initialize model, loss function, and optimizer\n",
    "device = torch.device('cuda' if torch.cuda.is_available() else 'cpu')\n",
    "criterion = nn.CrossEntropyLoss()\n",
    "\n",
    "\n",
    "model = EEGNet().to(device)\n",
    "model.load_state_dict(torch.load(\"/kaggle/input/nh-gi-m-hnh-eeg/model.pth\", weights_only=True))\n",
    "#model_GRU = EEG_GRUNet().to(device)\n",
    "model_GRU.load_state_dict(torch.load(\"/kaggle/working/model_GRU.pth\", weights_only=True))\n",
    "model_MLP = EEG_MLPNet().to(device)\n",
    "model_MLP.load_state_dict(torch.load(\"/kaggle/input/nh-gi-m-hnh-eeg/model_MLP.pth\", weights_only=True))\n",
    "\n",
    "model.eval()\n",
    "model_GRU.eval()\n",
    "model_MLP.eval()\n",
    "\n",
    "correct = 0\n",
    "correct_GRU = 0\n",
    "correct_MLP = 0\n",
    "total = 0\n",
    "\n",
    "target_list = []\n",
    "predicted_list = []\n",
    "predicted_GRU_list = []\n",
    "predicted_MLP_list = []\n",
    "\n",
    "for inputs, targets in test_loader:\n",
    "    inputs, targets = inputs.to(device), targets.to(device)\n",
    "\n",
    "    # Forward pass\n",
    "    #print(inputs[:, 19:20, :, :].shape)\n",
    "    outputs = model(inputs[:, 19:20, :, :])\n",
    "    outputs_MLP = model_MLP(inputs[:, 19:20, :, :])\n",
    "    outputs_GRU = model_GRU(inputs)\n",
    "\n",
    "    _, predicted_MLP = outputs_MLP.max(1)\n",
    "    _, predicted_GRU = outputs_GRU.max(1)\n",
    "    _, predicted = outputs.max(1)\n",
    "\n",
    "    predicted_MLP_list += predicted_MLP\n",
    "    target_list += targets\n",
    "    predicted_list += predicted;\n",
    "    predicted_GRU_list += predicted_GRU\n",
    "    \n",
    "\n",
    "    correct_MLP += predicted_MLP.eq(targets).sum().item()\n",
    "    total += targets.size(0)\n",
    "    correct += predicted.eq(targets).sum().item()\n",
    "    correct_GRU += predicted_GRU.eq(targets).sum().item()\n",
    "    \n",
    "\n",
    "# Print epoch statistics\n",
    "accuracy_MLP = 100. * correct_MLP / total\n",
    "accuracy = 100. * correct / total\n",
    "accuracy_GRU = 100. * correct_GRU / total\n",
    "#if (epoch + 1) % 5 == 0:\n",
    "print(f\"Number of Sample: {total}\")\n",
    "print(f'Accuracy of GRU-CNN: {accuracy_GRU:.2f}%, Accuracy of CNN: {accuracy:.2f}%, Accuracy of MLP: {accuracy_MLP:.2f}%')"
   ]
  },
  {
   "cell_type": "code",
   "execution_count": 40,
   "id": "533f8557",
   "metadata": {
    "execution": {
     "iopub.execute_input": "2024-12-05T03:51:27.309324Z",
     "iopub.status.busy": "2024-12-05T03:51:27.309070Z",
     "iopub.status.idle": "2024-12-05T03:51:27.312818Z",
     "shell.execute_reply": "2024-12-05T03:51:27.312140Z"
    },
    "papermill": {
     "duration": 0.019541,
     "end_time": "2024-12-05T03:51:27.314452",
     "exception": false,
     "start_time": "2024-12-05T03:51:27.294911",
     "status": "completed"
    },
    "tags": []
   },
   "outputs": [],
   "source": [
    "from sklearn.metrics import confusion_matrix, ConfusionMatrixDisplay, classification_report;"
   ]
  },
  {
   "cell_type": "code",
   "execution_count": 41,
   "id": "369cc36e",
   "metadata": {
    "execution": {
     "iopub.execute_input": "2024-12-05T03:51:27.342135Z",
     "iopub.status.busy": "2024-12-05T03:51:27.341862Z",
     "iopub.status.idle": "2024-12-05T03:51:27.346518Z",
     "shell.execute_reply": "2024-12-05T03:51:27.345802Z"
    },
    "papermill": {
     "duration": 0.020284,
     "end_time": "2024-12-05T03:51:27.348019",
     "exception": false,
     "start_time": "2024-12-05T03:51:27.327735",
     "status": "completed"
    },
    "tags": []
   },
   "outputs": [],
   "source": [
    "def precision_recall_f1_kappa(cm):\n",
    "    TN, FP, FN, TP = cm[0, 0], cm[0, 1], cm[1, 0], cm[1, 1]\n",
    "    precision = TP/ (TP + FP)\n",
    "    recall = TP / (TP + FN)\n",
    "    f1 = 2 * precision * recall / (precision + recall)\n",
    "    kappa = 2 * (TP * TN - FP * FN) / ((TP + FP) * (FP + TN) + (TP + FN) * (FN + TN))\n",
    "    return precision, recall, f1, kappa"
   ]
  },
  {
   "cell_type": "code",
   "execution_count": 42,
   "id": "0c65b52f",
   "metadata": {
    "execution": {
     "iopub.execute_input": "2024-12-05T03:51:27.375999Z",
     "iopub.status.busy": "2024-12-05T03:51:27.375697Z",
     "iopub.status.idle": "2024-12-05T03:51:27.639679Z",
     "shell.execute_reply": "2024-12-05T03:51:27.638918Z"
    },
    "papermill": {
     "duration": 0.280299,
     "end_time": "2024-12-05T03:51:27.641736",
     "exception": false,
     "start_time": "2024-12-05T03:51:27.361437",
     "status": "completed"
    },
    "tags": []
   },
   "outputs": [],
   "source": [
    "predicted_list = list(map(int, predicted_list))\n",
    "predicted_GRU_list = list(map(int, predicted_GRU_list))\n",
    "predicted_MLP_list = list(map(int, predicted_MLP_list))\n",
    "target_list = list(map(int, target_list))"
   ]
  },
  {
   "cell_type": "code",
   "execution_count": 43,
   "id": "158479c2",
   "metadata": {
    "execution": {
     "iopub.execute_input": "2024-12-05T03:51:27.671151Z",
     "iopub.status.busy": "2024-12-05T03:51:27.670338Z",
     "iopub.status.idle": "2024-12-05T03:51:27.866011Z",
     "shell.execute_reply": "2024-12-05T03:51:27.864973Z"
    },
    "papermill": {
     "duration": 0.213632,
     "end_time": "2024-12-05T03:51:27.869564",
     "exception": false,
     "start_time": "2024-12-05T03:51:27.655932",
     "status": "completed"
    },
    "tags": []
   },
   "outputs": [
    {
     "data": {
      "text/plain": [
       "<sklearn.metrics._plot.confusion_matrix.ConfusionMatrixDisplay at 0x7f66b0e62740>"
      ]
     },
     "execution_count": 43,
     "metadata": {},
     "output_type": "execute_result"
    },
    {
     "data": {
      "image/png": "[encoded data removed]",
      "text/plain": [
       "<Figure size 640x480 with 2 Axes>"
      ]
     },
     "metadata": {},
     "output_type": "display_data"
    }
   ],
   "source": [
    "cm = confusion_matrix(predicted_list, target_list);\n",
    "ConfusionMatrixDisplay(cm).plot()"
   ]
  },
  {
   "cell_type": "code",
   "execution_count": 44,
   "id": "0ba8ad2c",
   "metadata": {
    "execution": {
     "iopub.execute_input": "2024-12-05T03:51:27.902593Z",
     "iopub.status.busy": "2024-12-05T03:51:27.902289Z",
     "iopub.status.idle": "2024-12-05T03:51:27.907065Z",
     "shell.execute_reply": "2024-12-05T03:51:27.906147Z"
    },
    "papermill": {
     "duration": 0.021252,
     "end_time": "2024-12-05T03:51:27.908766",
     "exception": false,
     "start_time": "2024-12-05T03:51:27.887514",
     "status": "completed"
    },
    "tags": []
   },
   "outputs": [
    {
     "name": "stdout",
     "output_type": "stream",
     "text": [
      "CNN => precision:0.8706552706552707, recall:0.873642081189251, f1:0.8721461187214613, kappa:0.8181183653021331\n"
     ]
    }
   ],
   "source": [
    "precision, recall, f1, kappa = precision_recall_f1_kappa(cm)\n",
    "print(f'CNN => precision:{precision}, recall:{recall}, f1:{f1}, kappa:{kappa}')"
   ]
  },
  {
   "cell_type": "code",
   "execution_count": 45,
   "id": "2aafba8f",
   "metadata": {
    "execution": {
     "iopub.execute_input": "2024-12-05T03:51:27.937678Z",
     "iopub.status.busy": "2024-12-05T03:51:27.937445Z",
     "iopub.status.idle": "2024-12-05T03:51:28.122033Z",
     "shell.execute_reply": "2024-12-05T03:51:28.121131Z"
    },
    "papermill": {
     "duration": 0.203568,
     "end_time": "2024-12-05T03:51:28.126132",
     "exception": false,
     "start_time": "2024-12-05T03:51:27.922564",
     "status": "completed"
    },
    "tags": []
   },
   "outputs": [
    {
     "data": {
      "text/plain": [
       "<sklearn.metrics._plot.confusion_matrix.ConfusionMatrixDisplay at 0x7f66ad62e410>"
      ]
     },
     "execution_count": 45,
     "metadata": {},
     "output_type": "execute_result"
    },
    {
     "data": {
      "image/png": "[encoded data removed]",
      "text/plain": [
       "<Figure size 640x480 with 2 Axes>"
      ]
     },
     "metadata": {},
     "output_type": "display_data"
    }
   ],
   "source": [
    "cm = confusion_matrix(predicted_GRU_list, target_list);\n",
    "ConfusionMatrixDisplay(cm).plot()"
   ]
  },
  {
   "cell_type": "code",
   "execution_count": 46,
   "id": "99fd4ca0",
   "metadata": {
    "execution": {
     "iopub.execute_input": "2024-12-05T03:51:28.161754Z",
     "iopub.status.busy": "2024-12-05T03:51:28.161498Z",
     "iopub.status.idle": "2024-12-05T03:51:28.165800Z",
     "shell.execute_reply": "2024-12-05T03:51:28.165007Z"
    },
    "papermill": {
     "duration": 0.021276,
     "end_time": "2024-12-05T03:51:28.167442",
     "exception": false,
     "start_time": "2024-12-05T03:51:28.146166",
     "status": "completed"
    },
    "tags": []
   },
   "outputs": [
    {
     "name": "stdout",
     "output_type": "stream",
     "text": [
      "GRU-CNN => precision:0.9401709401709402, recall:0.9385665529010239, f1:0.9393680614859095, kappa:0.9136527676568726\n"
     ]
    }
   ],
   "source": [
    "precision, recall, f1, kappa = precision_recall_f1_kappa(cm)\n",
    "print(f'GRU-CNN => precision:{precision}, recall:{recall}, f1:{f1}, kappa:{kappa}')"
   ]
  },
  {
   "cell_type": "code",
   "execution_count": 47,
   "id": "8fe18efe",
   "metadata": {
    "execution": {
     "iopub.execute_input": "2024-12-05T03:51:28.196906Z",
     "iopub.status.busy": "2024-12-05T03:51:28.196679Z",
     "iopub.status.idle": "2024-12-05T03:51:28.380508Z",
     "shell.execute_reply": "2024-12-05T03:51:28.379591Z"
    },
    "papermill": {
     "duration": 0.200687,
     "end_time": "2024-12-05T03:51:28.382320",
     "exception": false,
     "start_time": "2024-12-05T03:51:28.181633",
     "status": "completed"
    },
    "tags": []
   },
   "outputs": [
    {
     "data": {
      "text/plain": [
       "<sklearn.metrics._plot.confusion_matrix.ConfusionMatrixDisplay at 0x7f66ad5abdf0>"
      ]
     },
     "execution_count": 47,
     "metadata": {},
     "output_type": "execute_result"
    },
    {
     "data": {
      "image/png": "[encoded data removed]",
      "text/plain": [
       "<Figure size 640x480 with 2 Axes>"
      ]
     },
     "metadata": {},
     "output_type": "display_data"
    }
   ],
   "source": [
    "cm = confusion_matrix(predicted_MLP_list, target_list);\n",
    "ConfusionMatrixDisplay(cm).plot()"
   ]
  },
  {
   "cell_type": "code",
   "execution_count": 48,
   "id": "1617fd32",
   "metadata": {
    "execution": {
     "iopub.execute_input": "2024-12-05T03:51:28.413627Z",
     "iopub.status.busy": "2024-12-05T03:51:28.412978Z",
     "iopub.status.idle": "2024-12-05T03:51:28.417198Z",
     "shell.execute_reply": "2024-12-05T03:51:28.416458Z"
    },
    "papermill": {
     "duration": 0.021429,
     "end_time": "2024-12-05T03:51:28.418958",
     "exception": false,
     "start_time": "2024-12-05T03:51:28.397529",
     "status": "completed"
    },
    "tags": []
   },
   "outputs": [
    {
     "name": "stdout",
     "output_type": "stream",
     "text": [
      "MLP => precision:0.7937321937321937, recall:0.8572307692307692, f1:0.8242603550295858, kappa:0.7538267602338196\n"
     ]
    }
   ],
   "source": [
    "precision, recall, f1, kappa = precision_recall_f1_kappa(cm)\n",
    "print(f'MLP => precision:{precision}, recall:{recall}, f1:{f1}, kappa:{kappa}')"
   ]
  }
 ],
 "metadata": {
  "kaggle": {
   "accelerator": "nvidiaTeslaT4",
   "dataSources": [
    {
     "datasetId": 3469157,
     "sourceId": 6062139,
     "sourceType": "datasetVersion"
    },
    {
     "datasetId": 6232788,
     "sourceId": 10104592,
     "sourceType": "datasetVersion"
    }
   ],
   "dockerImageVersionId": 30787,
   "isGpuEnabled": true,
   "isInternetEnabled": true,
   "language": "python",
   "sourceType": "notebook"
  },
  "kernelspec": {
   "display_name": "Python 3",
   "language": "python",
   "name": "python3"
  },
  "language_info": {
   "codemirror_mode": {
    "name": "ipython",
    "version": 3
   },
   "file_extension": ".py",
   "mimetype": "text/x-python",
   "name": "python",
   "nbconvert_exporter": "python",
   "pygments_lexer": "ipython3",
   "version": "3.10.14"
  },
  "papermill": {
   "default_parameters": {},
   "duration": 615.386283,
   "end_time": "2024-12-05T03:51:31.728863",
   "environment_variables": {},
   "exception": null,
   "input_path": "__notebook__.ipynb",
   "output_path": "__notebook__.ipynb",
   "parameters": {},
   "start_time": "2024-12-05T03:41:16.342580",
   "version": "2.6.0"
  }
 },
 "nbformat": 4,
 "nbformat_minor": 5
}
